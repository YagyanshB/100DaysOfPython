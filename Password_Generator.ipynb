{
  "nbformat": 4,
  "nbformat_minor": 0,
  "metadata": {
    "colab": {
      "name": "Password_Generator.ipynb",
      "provenance": [],
      "authorship_tag": "ABX9TyOADxdBd8+SHMJOZGF70Sqa",
      "include_colab_link": true
    },
    "kernelspec": {
      "name": "python3",
      "display_name": "Python 3"
    },
    "language_info": {
      "name": "python"
    }
  },
  "cells": [
    {
      "cell_type": "markdown",
      "metadata": {
        "id": "view-in-github",
        "colab_type": "text"
      },
      "source": [
        "<a href=\"https://colab.research.google.com/github/YagyanshB/100DaysOfPython/blob/main/Password_Generator.ipynb\" target=\"_parent\"><img src=\"https://colab.research.google.com/assets/colab-badge.svg\" alt=\"Open In Colab\"/></a>"
      ]
    },
    {
      "cell_type": "code",
      "execution_count": 16,
      "metadata": {
        "colab": {
          "base_uri": "https://localhost:8080/"
        },
        "id": "s2buhA_JXdlL",
        "outputId": "92a13f3d-02e6-4afe-811d-2312432e8473"
      },
      "outputs": [
        {
          "name": "stdout",
          "output_type": "stream",
          "text": [
            "Welcome to the PyPassword Generator!\n",
            "How many letters would you like in your password?\n",
            "4\n",
            "How many symbols would you like?\n",
            "5\n",
            "How many numbers would you like?\n",
            "3\n"
          ]
        }
      ],
      "source": [
        "# Creating a password generator that will be impossible to crack\n",
        "\n",
        "import random\n",
        "letters = ['a', 'b', 'c', 'd', 'e', 'f', 'g', 'h', 'i', 'j', 'k', 'l', 'm', 'n', 'o', 'p', 'q', 'r', 's', 't', 'u', 'v', 'w', 'x', 'y', 'z', 'A', 'B', 'C', 'D', 'E', 'F', 'G', 'H', 'I', 'J', 'K', 'L', 'M', 'N', 'O', 'P', 'Q', 'R', 'S', 'T', 'U', 'V', 'W', 'X', 'Y', 'Z']\n",
        "numbers = ['0', '1', '2', '3', '4', '5', '6', '7', '8', '9']\n",
        "symbols = ['!', '#', '$', '%', '&', '(', ')', '*', '+']\n",
        "\n",
        "print(\"Welcome to the PyPassword Generator!\")\n",
        "nr_letters= int(input(\"How many letters would you like in your password?\\n\")) \n",
        "nr_symbols = int(input(f\"How many symbols would you like?\\n\"))\n",
        "nr_numbers = int(input(f\"How many numbers would you like?\\n\"))\n",
        "\n",
        "#Eazy Level - Order not randomised:\n",
        "#e.g. 4 letter, 2 symbol, 2 number = JduE&!91\n",
        "\n",
        "\n",
        "#Hard Level - Order of characters randomised:\n",
        "#e.g. 4 letter, 2 symbol, 2 number = g^2jk8&P"
      ]
    },
    {
      "cell_type": "code",
      "source": [
        "\n",
        "password = \"\"\n",
        "\n",
        "for char in range(1, nr_letters + 1):\n",
        "  password += random.choice(letters)\n",
        "\n",
        "\n",
        "for char in range(1, nr_symbols + 1):\n",
        "  password += random.choice(symbols)\n",
        "  \n",
        "\n",
        "for char in range(1, nr_numbers + 1):\n",
        "  password += random.choice(numbers)"
      ],
      "metadata": {
        "id": "B3Jb4-OhXk73"
      },
      "execution_count": 14,
      "outputs": []
    },
    {
      "cell_type": "code",
      "source": [
        "password = []\n",
        "\n",
        "for char in range(1, nr_letters + 1):\n",
        "  password.append(random.choice(letters))\n",
        "\n",
        "\n",
        "for char in range(1, nr_symbols + 1):\n",
        "  password.append(random.choice(symbols))\n",
        "  \n",
        "\n",
        "for char in range(1, nr_numbers + 1):\n",
        "  password.append(random.choice(numbers))\n",
        "\n",
        "print(password)"
      ],
      "metadata": {
        "colab": {
          "base_uri": "https://localhost:8080/"
        },
        "id": "DRkA3NaLYx27",
        "outputId": "2dc2230d-e12c-40d0-d160-172e9b347f22"
      },
      "execution_count": 19,
      "outputs": [
        {
          "output_type": "stream",
          "name": "stdout",
          "text": [
            "['V', 'X', 'P', 'x', '&', '+', '$', '$', '+', '5', '2', '2']\n"
          ]
        }
      ]
    },
    {
      "cell_type": "code",
      "source": [
        "random.shuffle(password)\n",
        "print(password)\n",
        "\n",
        "final_password = \"\"\n",
        "for char in password:\n",
        "  final_password += char\n",
        "\n",
        "\n",
        "print(final_password)\n"
      ],
      "metadata": {
        "colab": {
          "base_uri": "https://localhost:8080/"
        },
        "id": "435MdO8taffe",
        "outputId": "5d30ec4f-7860-46cd-ac36-972afd4422fe"
      },
      "execution_count": 22,
      "outputs": [
        {
          "output_type": "stream",
          "name": "stdout",
          "text": [
            "['P', 'V', '2', '5', '+', '2', '$', '&', 'X', 'x', '$', '+']\n",
            "PV25+2$&Xx$+\n"
          ]
        }
      ]
    },
    {
      "cell_type": "code",
      "source": [
        ""
      ],
      "metadata": {
        "id": "AOwIDDmKa4rE"
      },
      "execution_count": null,
      "outputs": []
    }
  ]
}