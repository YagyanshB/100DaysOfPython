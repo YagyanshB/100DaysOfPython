{
  "nbformat": 4,
  "nbformat_minor": 0,
  "metadata": {
    "colab": {
      "name": "Random_Toss_Generator.ipynb",
      "provenance": [],
      "authorship_tag": "ABX9TyMx72RtM9vXmXErIWT7TT7Y",
      "include_colab_link": true
    },
    "kernelspec": {
      "name": "python3",
      "display_name": "Python 3"
    },
    "language_info": {
      "name": "python"
    }
  },
  "cells": [
    {
      "cell_type": "markdown",
      "metadata": {
        "id": "view-in-github",
        "colab_type": "text"
      },
      "source": [
        "<a href=\"https://colab.research.google.com/github/YagyanshB/100DaysOfPython/blob/main/Random_Toss_Generator.ipynb\" target=\"_parent\"><img src=\"https://colab.research.google.com/assets/colab-badge.svg\" alt=\"Open In Colab\"/></a>"
      ]
    },
    {
      "cell_type": "code",
      "execution_count": 1,
      "metadata": {
        "id": "hfP3VRc6PLMV"
      },
      "outputs": [],
      "source": [
        "# Program Description\n",
        "\n",
        "# We would be building a random toss generator for Heads and Tails using the random module"
      ]
    },
    {
      "cell_type": "code",
      "source": [
        "# Importing the required packages\n",
        "\n",
        "import random"
      ],
      "metadata": {
        "id": "ACH5AFUMPUQt"
      },
      "execution_count": 2,
      "outputs": []
    },
    {
      "cell_type": "code",
      "source": [
        "toss_random = random.randint(0,1)\n",
        "\n",
        "# Creating an if else statement\n",
        "\n",
        "if toss_random == 1:\n",
        "  print(\"Heads\")\n",
        "\n",
        "else:\n",
        "  print(\"Tails\")"
      ],
      "metadata": {
        "colab": {
          "base_uri": "https://localhost:8080/"
        },
        "id": "Iz8IrcwoPWUI",
        "outputId": "e168bc92-c4c3-4d13-ac70-02b49029ee58"
      },
      "execution_count": 3,
      "outputs": [
        {
          "output_type": "stream",
          "name": "stdout",
          "text": [
            "Tails\n"
          ]
        }
      ]
    }
  ]
}