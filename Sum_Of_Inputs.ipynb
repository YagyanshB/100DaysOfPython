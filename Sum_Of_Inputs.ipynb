{
  "nbformat": 4,
  "nbformat_minor": 0,
  "metadata": {
    "colab": {
      "name": "Sum_Of_Inputs.ipynb",
      "provenance": [],
      "authorship_tag": "ABX9TyOPQoXv7uGC/LoZRKKJzvAq",
      "include_colab_link": true
    },
    "kernelspec": {
      "name": "python3",
      "display_name": "Python 3"
    },
    "language_info": {
      "name": "python"
    }
  },
  "cells": [
    {
      "cell_type": "markdown",
      "metadata": {
        "id": "view-in-github",
        "colab_type": "text"
      },
      "source": [
        "<a href=\"https://colab.research.google.com/github/YagyanshB/100DaysOfPython/blob/main/Sum_Of_Inputs.ipynb\" target=\"_parent\"><img src=\"https://colab.research.google.com/assets/colab-badge.svg\" alt=\"Open In Colab\"/></a>"
      ]
    },
    {
      "cell_type": "code",
      "execution_count": 1,
      "metadata": {
        "id": "iWZ04S-OT5Hf"
      },
      "outputs": [],
      "source": [
        "# Creating a program that combines the input of a two digit number by the user"
      ]
    },
    {
      "cell_type": "code",
      "source": [
        "two_digit_number = (input(\"Type a two digit number: \"))\n",
        "\n",
        "# We will be first converting the string to an int as well as indexing it\n",
        "\n",
        "a = int(two_digit_number[0])\n",
        "b = int(two_digit_number[1])\n",
        "\n",
        "c = a + b\n",
        "\n",
        "d = str(c)\n",
        "\n",
        "print(\"The sum of your digits entered is \" + d)"
      ],
      "metadata": {
        "colab": {
          "base_uri": "https://localhost:8080/"
        },
        "id": "qtePFe2ST_ay",
        "outputId": "14c3e3e8-f4eb-4302-9bb1-eb2a9c50237f"
      },
      "execution_count": 7,
      "outputs": [
        {
          "output_type": "stream",
          "name": "stdout",
          "text": [
            "Type a two digit number: 49\n",
            "The sum of your digits entered is 13\n"
          ]
        }
      ]
    },
    {
      "cell_type": "code",
      "source": [
        ""
      ],
      "metadata": {
        "id": "ntRZmIr_UPU3"
      },
      "execution_count": null,
      "outputs": []
    }
  ]
}