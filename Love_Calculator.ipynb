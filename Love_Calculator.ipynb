{
  "nbformat": 4,
  "nbformat_minor": 0,
  "metadata": {
    "colab": {
      "name": "Love_Calculator.ipynb",
      "provenance": [],
      "authorship_tag": "ABX9TyPH76aTykZJ8IEwMqnxmS1U",
      "include_colab_link": true
    },
    "kernelspec": {
      "name": "python3",
      "display_name": "Python 3"
    },
    "language_info": {
      "name": "python"
    }
  },
  "cells": [
    {
      "cell_type": "markdown",
      "metadata": {
        "id": "view-in-github",
        "colab_type": "text"
      },
      "source": [
        "<a href=\"https://colab.research.google.com/github/YagyanshB/100DaysOfPython/blob/main/Love_Calculator.ipynb\" target=\"_parent\"><img src=\"https://colab.research.google.com/assets/colab-badge.svg\" alt=\"Open In Colab\"/></a>"
      ]
    },
    {
      "cell_type": "code",
      "execution_count": 1,
      "metadata": {
        "id": "AVei5Xk0Mdb5"
      },
      "outputs": [],
      "source": [
        "# A program that showcases if there is true love between two individuals or not. Ofcourse this is just a program\n",
        "# so please do not use this as a template to love someone."
      ]
    },
    {
      "cell_type": "code",
      "source": [
        "# Program Greeting\n",
        "\n",
        "print(\"Welcome to the Love Calculator!\")\n",
        "\n",
        "name1 = input(\"Please enter your name: \")\n",
        "name2 = input(\"Please enter your better half's name: \")\n",
        "\n",
        "# Combining both these string inputs together\n",
        "\n",
        "combined_name = name1 + name2\n",
        "\n",
        "# Since a name is a proper noun, people would be capitalising their names, in order to combat that, we would be lowering the values\n",
        "\n",
        "lower_name = combined_name.lower()\n",
        "\n",
        "t = lower_name.count('t')\n",
        "r = lower_name.count('r')\n",
        "u = lower_name.count('u')\n",
        "e = lower_name.count('e')\n",
        "\n",
        "first_digit = t + r + u + e\n",
        "\n",
        "l = lower_name.count('l')\n",
        "o = lower_name.count('o')\n",
        "v = lower_name.count('v')\n",
        "e = lower_name.count('e')\n",
        "\n",
        "second_digit = l + o + v + e\n",
        "\n",
        "score = int(str(first_digit) + str(second_digit))\n",
        "\n",
        "if (score <= 10) or (score >= 90):\n",
        "  print(f\"Your score is {score}, you go together like Coke and Mentos.\")\n",
        "\n",
        "elif (score >= 40) and (score <= 50):\n",
        "  print(f\"Your score is {score}, you are alright together.\")\n",
        "\n",
        "else:\n",
        "  print(f\"Your score is {score}.\")"
      ],
      "metadata": {
        "colab": {
          "base_uri": "https://localhost:8080/"
        },
        "id": "XyYVqYB8Mo6k",
        "outputId": "218d43ac-be4f-43a0-bfd6-f4f989ec3d79"
      },
      "execution_count": 3,
      "outputs": [
        {
          "output_type": "stream",
          "name": "stdout",
          "text": [
            "Welcome to the Love Calculator!\n",
            "Please enter your name: Truth\n",
            "Please enter your better half's name: Loyalty\n",
            "Your score is 53.\n"
          ]
        }
      ]
    }
  ]
}