{
  "nbformat": 4,
  "nbformat_minor": 0,
  "metadata": {
    "colab": {
      "name": "Leap_Or_Not_Leap.ipynb",
      "provenance": [],
      "authorship_tag": "ABX9TyO2pkzzPsW9iQX16v0+2Tz2",
      "include_colab_link": true
    },
    "kernelspec": {
      "name": "python3",
      "display_name": "Python 3"
    },
    "language_info": {
      "name": "python"
    }
  },
  "cells": [
    {
      "cell_type": "markdown",
      "metadata": {
        "id": "view-in-github",
        "colab_type": "text"
      },
      "source": [
        "<a href=\"https://colab.research.google.com/github/YagyanshB/100DaysOfPython/blob/main/Leap_Or_Not_Leap.ipynb\" target=\"_parent\"><img src=\"https://colab.research.google.com/assets/colab-badge.svg\" alt=\"Open In Colab\"/></a>"
      ]
    },
    {
      "cell_type": "code",
      "execution_count": 1,
      "metadata": {
        "id": "ke8uBYs3oimt"
      },
      "outputs": [],
      "source": [
        "# A program that tells a user if a given year is a leap year or not."
      ]
    },
    {
      "cell_type": "code",
      "source": [
        "print(\"Welcome to the Leap Year Program!\")\n",
        "\n",
        "year = int(input(\"Please enter the year of your choice:\"))\n",
        "\n",
        "# Using nested if, elif and else statements \n",
        "\n",
        "if year % 4 == 0:\n",
        "  if year % 100 == 0:\n",
        "    if year % 400 == 0:\n",
        "      print(\"This is a leap year.\")\n",
        "    else:\n",
        "      print(\"This is not a leap year.\")\n",
        "  else:\n",
        "    print(\"This is not a leap year.\")\n",
        "else:\n",
        "  print(\"This is not a leap year.\")"
      ],
      "metadata": {
        "colab": {
          "base_uri": "https://localhost:8080/"
        },
        "id": "w431m2Grop7s",
        "outputId": "d17b9f42-14a0-4639-e015-e7d44416a61a"
      },
      "execution_count": 2,
      "outputs": [
        {
          "output_type": "stream",
          "name": "stdout",
          "text": [
            "Welcome to the Leap Year Program!\n",
            "Please enter the year of your choice:1999\n",
            "This is not a leap year.\n"
          ]
        }
      ]
    }
  ]
}