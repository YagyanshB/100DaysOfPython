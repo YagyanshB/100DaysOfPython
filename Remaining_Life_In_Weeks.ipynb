{
  "nbformat": 4,
  "nbformat_minor": 0,
  "metadata": {
    "colab": {
      "name": "Remaining_Life_In_Weeks.ipynb",
      "provenance": [],
      "authorship_tag": "ABX9TyPHUaX/qAWdbYArbW3CfTNl",
      "include_colab_link": true
    },
    "kernelspec": {
      "name": "python3",
      "display_name": "Python 3"
    },
    "language_info": {
      "name": "python"
    }
  },
  "cells": [
    {
      "cell_type": "markdown",
      "metadata": {
        "id": "view-in-github",
        "colab_type": "text"
      },
      "source": [
        "<a href=\"https://colab.research.google.com/github/YagyanshB/100DaysOfPython/blob/main/Remaining_Life_In_Weeks.ipynb\" target=\"_parent\"><img src=\"https://colab.research.google.com/assets/colab-badge.svg\" alt=\"Open In Colab\"/></a>"
      ]
    },
    {
      "cell_type": "code",
      "execution_count": 1,
      "metadata": {
        "id": "djcPDkW-vcba"
      },
      "outputs": [],
      "source": [
        "# Description of Project\n",
        "\n",
        "# A program that tells the user the remaining number of days, weeks and months an individual has.\n",
        "\n",
        "# Life is very short and one must endeavour to make the most of it."
      ]
    },
    {
      "cell_type": "code",
      "source": [
        "# Asking the user for an input\n",
        "\n",
        "age = (input(\"What is your current age? \"))\n",
        "\n",
        "new_age = int(age)\n",
        "\n",
        "# Declaring the maximum age a human body can live. In this instance we keep the maximum age as 100 years old\n",
        "\n",
        "# Since in 1 year there are 365 days\n",
        "\n",
        "days = 100*365 \n",
        "\n",
        "# Since in 1 year there are 12 months \n",
        "\n",
        "months = 100*12 \n",
        "\n",
        "# Since in 1 year there are 52 weeks\n",
        "\n",
        "weeks = 100*52 \n",
        "\n",
        "# Calculating the remaining days\n",
        "\n",
        "remaining_days = str(days - (new_age*365))\n",
        "remaining_months = str(months - (new_age*12))\n",
        "remaining_weeks = str(weeks - (new_age*52))\n",
        "\n",
        "print(\"You have \" + remaining_days + \" ays, \" + remaining_months + \" months, \" + \"and \" + remaining_weeks + \" weeks remaining.\")"
      ],
      "metadata": {
        "colab": {
          "base_uri": "https://localhost:8080/"
        },
        "id": "Sp26PuPivws2",
        "outputId": "573f3755-2528-40c6-bf94-0e7638366ba5"
      },
      "execution_count": 3,
      "outputs": [
        {
          "output_type": "stream",
          "name": "stdout",
          "text": [
            "What is your current age? 23\n",
            "You have 28105 ays, 924 months, and 4004 weeks remaining.\n"
          ]
        }
      ]
    }
  ]
}