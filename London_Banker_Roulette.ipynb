{
  "nbformat": 4,
  "nbformat_minor": 0,
  "metadata": {
    "colab": {
      "name": "London_Banker_Roulette.ipynb",
      "provenance": [],
      "authorship_tag": "ABX9TyPizgZfffwuIYBkZYPjaU3w",
      "include_colab_link": true
    },
    "kernelspec": {
      "name": "python3",
      "display_name": "Python 3"
    },
    "language_info": {
      "name": "python"
    }
  },
  "cells": [
    {
      "cell_type": "markdown",
      "metadata": {
        "id": "view-in-github",
        "colab_type": "text"
      },
      "source": [
        "<a href=\"https://colab.research.google.com/github/YagyanshB/100DaysOfPython/blob/main/London_Banker_Roulette.ipynb\" target=\"_parent\"><img src=\"https://colab.research.google.com/assets/colab-badge.svg\" alt=\"Open In Colab\"/></a>"
      ]
    },
    {
      "cell_type": "code",
      "execution_count": 1,
      "metadata": {
        "id": "hUIPtildnAhh"
      },
      "outputs": [],
      "source": [
        "# A program that the rich bankers in London play, where they put their business cards in a bowl when the bill comes.\n",
        "# The person whose card gets picked up end up paying the bill."
      ]
    },
    {
      "cell_type": "code",
      "source": [
        "# Importing the required packages\n",
        "\n",
        "import random\n",
        "\n",
        "# Asking the user for a string of names\n",
        "\n",
        "names_string = input(\"Give me everybody's names, separated by a comma. \")\n",
        "names = names_string.split(\", \")"
      ],
      "metadata": {
        "colab": {
          "base_uri": "https://localhost:8080/"
        },
        "id": "RCvLk_qKnakw",
        "outputId": "b5054646-8f37-4c2e-87be-e601f8dfd10d"
      },
      "execution_count": 9,
      "outputs": [
        {
          "name": "stdout",
          "output_type": "stream",
          "text": [
            "Give me everybody's names, separated by a comma. Tom, Jack, Harry, Reynold\n"
          ]
        }
      ]
    },
    {
      "cell_type": "code",
      "source": [
        "# Deciding who will be paying the bill\n",
        "\n",
        "num_items = len(names)\n",
        "\n",
        "random_choice = random.randint(0, num_items - 1)\n",
        "\n",
        "person_who_will_pay = names[random_choice]\n",
        "\n",
        "print(person_who_will_pay + \" will be paying the bill.\")"
      ],
      "metadata": {
        "colab": {
          "base_uri": "https://localhost:8080/"
        },
        "id": "ePP1xs3mnqui",
        "outputId": "a15a438d-faf7-42be-f9be-1d411f25e96e"
      },
      "execution_count": 10,
      "outputs": [
        {
          "output_type": "stream",
          "name": "stdout",
          "text": [
            "Reynold will be paying the bill.\n"
          ]
        }
      ]
    }
  ]
}