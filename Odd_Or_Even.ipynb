{
  "nbformat": 4,
  "nbformat_minor": 0,
  "metadata": {
    "colab": {
      "name": "Odd_Or_Even.ipynb",
      "provenance": [],
      "authorship_tag": "ABX9TyPqMrKy7CzjCrCihQGiLl/6",
      "include_colab_link": true
    },
    "kernelspec": {
      "name": "python3",
      "display_name": "Python 3"
    },
    "language_info": {
      "name": "python"
    }
  },
  "cells": [
    {
      "cell_type": "markdown",
      "metadata": {
        "id": "view-in-github",
        "colab_type": "text"
      },
      "source": [
        "<a href=\"https://colab.research.google.com/github/YagyanshB/100DaysOfPython/blob/main/Odd_Or_Even.ipynb\" target=\"_parent\"><img src=\"https://colab.research.google.com/assets/colab-badge.svg\" alt=\"Open In Colab\"/></a>"
      ]
    },
    {
      "cell_type": "code",
      "execution_count": 1,
      "metadata": {
        "id": "8HJz3YZjVGFs"
      },
      "outputs": [],
      "source": [
        "# A program that uses if and else statements to tell if a number is odd or even"
      ]
    },
    {
      "cell_type": "code",
      "source": [
        "# Asking the user for an input\n",
        "\n",
        "print(\"Welcome to the Odd or Even Number Guesser! \")\n",
        "\n",
        "number = int(input(\"Please enter an integer of your choice: \"))\n",
        "\n",
        "if number%2 == 0:\n",
        "  print(\"This number is even.\")\n",
        "else:\n",
        "  print(\"This number is odd.\")"
      ],
      "metadata": {
        "colab": {
          "base_uri": "https://localhost:8080/"
        },
        "id": "SQR2osz2h-8Z",
        "outputId": "af19c59c-5060-4694-f051-9740917af997"
      },
      "execution_count": 2,
      "outputs": [
        {
          "output_type": "stream",
          "name": "stdout",
          "text": [
            "Welcome to the Odd or Even Number Guesser! \n",
            "Please enter an integer of your choice: 12\n",
            "This number is even.\n"
          ]
        }
      ]
    }
  ]
}