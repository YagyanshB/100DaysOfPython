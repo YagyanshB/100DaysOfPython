{
  "nbformat": 4,
  "nbformat_minor": 0,
  "metadata": {
    "colab": {
      "name": "Treasure_island.ipynb",
      "provenance": [],
      "authorship_tag": "ABX9TyN2/X6MhokBV9S9GZCr4Vub",
      "include_colab_link": true
    },
    "kernelspec": {
      "name": "python3",
      "display_name": "Python 3"
    },
    "language_info": {
      "name": "python"
    }
  },
  "cells": [
    {
      "cell_type": "markdown",
      "metadata": {
        "id": "view-in-github",
        "colab_type": "text"
      },
      "source": [
        "<a href=\"https://colab.research.google.com/github/YagyanshB/100DaysOfPython/blob/main/Treasure_island.ipynb\" target=\"_parent\"><img src=\"https://colab.research.google.com/assets/colab-badge.svg\" alt=\"Open In Colab\"/></a>"
      ]
    },
    {
      "cell_type": "code",
      "execution_count": 12,
      "metadata": {
        "colab": {
          "base_uri": "https://localhost:8080/"
        },
        "id": "GSFU-oRbpLxJ",
        "outputId": "ac185fbd-7b72-476d-a12c-2191bb4e5394"
      },
      "outputs": [
        {
          "output_type": "stream",
          "name": "stdout",
          "text": [
            "\n",
            "*******************************************************************************\n",
            "          |                   |                  |                     |\n",
            " _________|________________.=\"\"_;=.______________|_____________________|_______\n",
            "|                   |  ,-\"_,=\"\"     `\"=.|                  |\n",
            "|___________________|__\"=._o`\"-._        `\"=.______________|___________________\n",
            "          |                `\"=._o`\"=._      _`\"=._                     |\n",
            " _________|_____________________:=._o \"=._.\"_.-=\"'\"=.__________________|_______\n",
            "|                   |    __.--\" , ; `\"=._o.\" ,-\"\"\"-._ \".   |\n",
            "|___________________|_._\"  ,. .` ` `` ,  `\"-._\"-._   \". '__|___________________\n",
            "          |           |o`\"=._` , \"` `; .\". ,  \"-._\"-._; ;              |\n",
            " _________|___________| ;`-.o`\"=._; .\" ` '`.\"\\` . \"-._ /_______________|_______\n",
            "|                   | |o;    `\"-.o`\"=._``  '` \" ,__.--o;   |\n",
            "|___________________|_| ;     (#) `-.o `\"=.`_.--\"_o.-; ;___|___________________\n",
            "____/______/______/___|o;._    \"      `\".o|o_.--\"    ;o;____/______/______/____\n",
            "/______/______/______/_\"=._o--._        ; | ;        ; ;/______/______/______/_\n",
            "____/______/______/______/__\"=._o--._   ;o|o;     _._;o;____/______/______/____\n",
            "/______/______/______/______/____\"=._o._; | ;_.--\"o.--\"_/______/______/______/_\n",
            "____/______/______/______/______/_____\"=.o|o_.--\"\"___/______/______/______/____\n",
            "/______/______/______/______/______/______/______/______/______/______/_____ /\n",
            "*******************************************************************************\n",
            "\n",
            "Welcome to Treasure Island.\n",
            "Your mission is to find the treasure.\n",
            "\n",
            "You're at a cross road. Where do you want to go? Type 'left' or 'right' \n",
            "left\n",
            "You came to a lake. There is an island in the middle of the lake. Type 'wait' to wait for the boat. Type 'swim' to swim across \n",
            "wait\n",
            "You arrive at the island unharmed. There is a house with three doors. One red, One yellow and one blue. Which colour do you choose? \n",
            "yellow\n",
            "You have unlocked a room full of gold ornamets. You win the Game!\n"
          ]
        }
      ],
      "source": [
        "print('''\n",
        "*******************************************************************************\n",
        "          |                   |                  |                     |\n",
        " _________|________________.=\"\"_;=.______________|_____________________|_______\n",
        "|                   |  ,-\"_,=\"\"     `\"=.|                  |\n",
        "|___________________|__\"=._o`\"-._        `\"=.______________|___________________\n",
        "          |                `\"=._o`\"=._      _`\"=._                     |\n",
        " _________|_____________________:=._o \"=._.\"_.-=\"'\"=.__________________|_______\n",
        "|                   |    __.--\" , ; `\"=._o.\" ,-\"\"\"-._ \".   |\n",
        "|___________________|_._\"  ,. .` ` `` ,  `\"-._\"-._   \". '__|___________________\n",
        "          |           |o`\"=._` , \"` `; .\". ,  \"-._\"-._; ;              |\n",
        " _________|___________| ;`-.o`\"=._; .\" ` '`.\"\\` . \"-._ /_______________|_______\n",
        "|                   | |o;    `\"-.o`\"=._``  '` \" ,__.--o;   |\n",
        "|___________________|_| ;     (#) `-.o `\"=.`_.--\"_o.-; ;___|___________________\n",
        "____/______/______/___|o;._    \"      `\".o|o_.--\"    ;o;____/______/______/____\n",
        "/______/______/______/_\"=._o--._        ; | ;        ; ;/______/______/______/_\n",
        "____/______/______/______/__\"=._o--._   ;o|o;     _._;o;____/______/______/____\n",
        "/______/______/______/______/____\"=._o._; | ;_.--\"o.--\"_/______/______/______/_\n",
        "____/______/______/______/______/_____\"=.o|o_.--\"\"___/______/______/______/____\n",
        "/______/______/______/______/______/______/______/______/______/______/_____ /\n",
        "*******************************************************************************\n",
        "''')\n",
        "print(\"Welcome to Treasure Island.\")\n",
        "print(\"Your mission is to find the treasure.\\n\") \n",
        "\n",
        "choice_1 = input(\"You're at a cross road. Where do you want to go? Type 'left' or 'right' \\n\").lower()\n",
        "\n",
        "if choice_1 == 'left':\n",
        "  choice_2 = input(\"You came to a lake. There is an island in the middle of the lake. Type 'wait' to wait for the boat. Type 'swim' to swim across \\n\").lower()\n",
        "  if choice_2 == 'wait':\n",
        "    choice_3 = input(\"You arrive at the island unharmed. There is a house with three doors. One red, One yellow and one blue. Which colour do you choose? \\n\").lower()\n",
        "    if choice_3 == 'blue':\n",
        "      print(\"You enter a room of Beasts. Game Over.\")\n",
        "    elif choice_3 == 'red':\n",
        "      print(\"You enter a room full of vampires. Game Over.\")\n",
        "    elif choice_3 == 'yellow':\n",
        "      print(\"You have unlocked a room full of gold ornamets. You win the Game!\")\n",
        "    else:\n",
        "      print(\"Error inputting value\")\n",
        "  elif choice_2 != 'swim' or choice_2 != 'wait':\n",
        "    print(\"Error inputting value\")\n",
        "  else:\n",
        "    print(\"You were eaten by sharks while swimming and have died. Game Over.\")\n",
        "elif choice_1 != 'left' or choice_1 != 'right':\n",
        "  print(\"Error inputting value\")\n",
        "else:\n",
        "  print(\"You did not take the right call, ironic right, Game Over.\")"
      ]
    }
  ]
}