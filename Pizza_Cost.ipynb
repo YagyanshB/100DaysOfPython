{
  "nbformat": 4,
  "nbformat_minor": 0,
  "metadata": {
    "colab": {
      "name": "Pizza_Cost.ipynb",
      "provenance": [],
      "authorship_tag": "ABX9TyMsCDEE9Ma6RrGC52cjzpUS",
      "include_colab_link": true
    },
    "kernelspec": {
      "name": "python3",
      "display_name": "Python 3"
    },
    "language_info": {
      "name": "python"
    }
  },
  "cells": [
    {
      "cell_type": "markdown",
      "metadata": {
        "id": "view-in-github",
        "colab_type": "text"
      },
      "source": [
        "<a href=\"https://colab.research.google.com/github/YagyanshB/100DaysOfPython/blob/main/Pizza_Cost.ipynb\" target=\"_parent\"><img src=\"https://colab.research.google.com/assets/colab-badge.svg\" alt=\"Open In Colab\"/></a>"
      ]
    },
    {
      "cell_type": "code",
      "execution_count": 1,
      "metadata": {
        "id": "_EPqYO--dZWq"
      },
      "outputs": [],
      "source": [
        "# Creating a program with multiple if statements to calculate the cost of a pizza with multiple toppings"
      ]
    },
    {
      "cell_type": "code",
      "source": [
        "# Program greeting\n",
        "\n",
        "print(\"Welcome to the Pizza Cost Calculator!\")\n",
        "\n",
        "# Asking the user for the following inputs:\n",
        "\n",
        "size = input(\"What size pizza do you want? S, M, or L \")\n",
        "add_pepperoni = input(\"Do you want pepperoni? Y or N \")\n",
        "extra_cheese = input(\"Do you want extra cheese? Y or N \")\n",
        "\n",
        "bill = 0\n",
        "\n",
        "if size == 'S':\n",
        "    bill = 15\n",
        "\n",
        "if size == 'M':\n",
        "    bill = 20\n",
        "\n",
        "if size == 'L':\n",
        "    bill = 25\n",
        "\n",
        "if size == 'S':\n",
        "    if add_pepperoni == 'Y':\n",
        "        bill += 2\n",
        "\n",
        "if size == 'M' or size == 'L':\n",
        "    if add_pepperoni == 'Y':\n",
        "        bill += 3\n",
        "\n",
        "if extra_cheese == 'Y':\n",
        "    bill += 1\n",
        "\n",
        "print(f\"Your final bill is: ${bill}\")"
      ],
      "metadata": {
        "colab": {
          "base_uri": "https://localhost:8080/"
        },
        "id": "FpXdldZvdgPH",
        "outputId": "f52b3f06-c6e6-4d94-ce04-1e3d9023badf"
      },
      "execution_count": 2,
      "outputs": [
        {
          "output_type": "stream",
          "name": "stdout",
          "text": [
            "Welcome to the Pizza Cost Calculator!\n",
            "What size pizza do you want? S, M, or L S\n",
            "Do you want pepperoni? Y or N Y\n",
            "Do you want extra cheese? Y or N Y\n",
            "Your final bill is: $18\n"
          ]
        }
      ]
    }
  ]
}