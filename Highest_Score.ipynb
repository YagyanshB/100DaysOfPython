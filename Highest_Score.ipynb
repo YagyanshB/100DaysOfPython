{
  "nbformat": 4,
  "nbformat_minor": 0,
  "metadata": {
    "colab": {
      "name": "Highest_Score.ipynb",
      "provenance": [],
      "authorship_tag": "ABX9TyNqlf3gHq01HmuQ7NVtDtTl",
      "include_colab_link": true
    },
    "kernelspec": {
      "name": "python3",
      "display_name": "Python 3"
    },
    "language_info": {
      "name": "python"
    }
  },
  "cells": [
    {
      "cell_type": "markdown",
      "metadata": {
        "id": "view-in-github",
        "colab_type": "text"
      },
      "source": [
        "<a href=\"https://colab.research.google.com/github/YagyanshB/100DaysOfPython/blob/main/Highest_Score.ipynb\" target=\"_parent\"><img src=\"https://colab.research.google.com/assets/colab-badge.svg\" alt=\"Open In Colab\"/></a>"
      ]
    },
    {
      "cell_type": "code",
      "execution_count": 1,
      "metadata": {
        "id": "hc0oAGJDQ3ZR"
      },
      "outputs": [],
      "source": [
        "# Description of Program\n",
        "\n",
        "# Building a program to receive the highest score using a for loop"
      ]
    },
    {
      "cell_type": "code",
      "source": [
        "# Asking the user for input\n",
        "\n",
        "student_scores = input(\"Input a list of student scores \").split()\n",
        "\n",
        "for n in range(0, len(student_scores)):\n",
        "  student_scores[n] = int(student_scores[n])"
      ],
      "metadata": {
        "colab": {
          "base_uri": "https://localhost:8080/"
        },
        "id": "ZJJrjybBQ9X7",
        "outputId": "cad8a9bb-dd18-46b2-9083-9da2557e583e"
      },
      "execution_count": 2,
      "outputs": [
        {
          "name": "stdout",
          "output_type": "stream",
          "text": [
            "Input a list of student scores 12 34 45 65 54 89 68 97\n"
          ]
        }
      ]
    },
    {
      "cell_type": "code",
      "source": [
        "# Creating the for loop\n",
        "\n",
        "highest_score = 0\n",
        "\n",
        "for score in student_scores:\n",
        "  if score > highest_score:\n",
        "     highest_score = score\n",
        "\n",
        "print(f\"The highest score is {highest_score}\") "
      ],
      "metadata": {
        "colab": {
          "base_uri": "https://localhost:8080/"
        },
        "id": "BYe7ZMO7RBic",
        "outputId": "efeb2011-f6df-4110-9908-9b7f03aa2132"
      },
      "execution_count": 3,
      "outputs": [
        {
          "output_type": "stream",
          "name": "stdout",
          "text": [
            "The highest score is 97\n"
          ]
        }
      ]
    }
  ]
}