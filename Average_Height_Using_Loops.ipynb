{
  "nbformat": 4,
  "nbformat_minor": 0,
  "metadata": {
    "colab": {
      "name": "Average_Height_Using_Loops.ipynb",
      "provenance": [],
      "authorship_tag": "ABX9TyOeKz5m3ydO5CSaK42TfpBQ",
      "include_colab_link": true
    },
    "kernelspec": {
      "name": "python3",
      "display_name": "Python 3"
    },
    "language_info": {
      "name": "python"
    }
  },
  "cells": [
    {
      "cell_type": "markdown",
      "metadata": {
        "id": "view-in-github",
        "colab_type": "text"
      },
      "source": [
        "<a href=\"https://colab.research.google.com/github/YagyanshB/100DaysOfPython/blob/main/Average_Height_Using_Loops.ipynb\" target=\"_parent\"><img src=\"https://colab.research.google.com/assets/colab-badge.svg\" alt=\"Open In Colab\"/></a>"
      ]
    },
    {
      "cell_type": "code",
      "execution_count": 7,
      "metadata": {
        "id": "oVcmMb8ViEtW"
      },
      "outputs": [],
      "source": [
        "# Creating a program that uses loops to calculate the average height of students"
      ]
    },
    {
      "cell_type": "code",
      "source": [
        "# Asking the user for an input \n",
        "\n",
        "student_heights = input(\"Input a list of student heights \").split()\n",
        "\n",
        "for n in range(0, len(student_heights)):\n",
        "  student_heights[n] = int(student_heights[n])\n",
        "\n",
        "total_height = 0\n",
        "\n",
        "for height in student_heights:\n",
        "  total_height += height\n",
        "\n",
        "total_students = 0\n",
        "\n",
        "for student in student_heights:\n",
        "  total_students += 1\n",
        "\n",
        "average_height = round(total_height/total_students)\n",
        "\n",
        "print(average_height)"
      ],
      "metadata": {
        "colab": {
          "base_uri": "https://localhost:8080/"
        },
        "id": "ZSspin_dil3s",
        "outputId": "6b8938ac-c42c-41a7-aa7f-b9fe0215122e"
      },
      "execution_count": 8,
      "outputs": [
        {
          "output_type": "stream",
          "name": "stdout",
          "text": [
            "Input a list of student heights 145 164 178 165 135 189 190\n",
            "167\n"
          ]
        }
      ]
    }
  ]
}