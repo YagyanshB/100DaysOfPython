{
  "nbformat": 4,
  "nbformat_minor": 0,
  "metadata": {
    "colab": {
      "name": "Sum_Of_Even_Numbers_1-100.ipynb",
      "provenance": [],
      "authorship_tag": "ABX9TyM8CSCq6sK/BmjT6cGCVL5B",
      "include_colab_link": true
    },
    "kernelspec": {
      "name": "python3",
      "display_name": "Python 3"
    },
    "language_info": {
      "name": "python"
    }
  },
  "cells": [
    {
      "cell_type": "markdown",
      "metadata": {
        "id": "view-in-github",
        "colab_type": "text"
      },
      "source": [
        "<a href=\"https://colab.research.google.com/github/YagyanshB/100DaysOfPython/blob/main/Sum_Of_Even_Numbers_1_100.ipynb\" target=\"_parent\"><img src=\"https://colab.research.google.com/assets/colab-badge.svg\" alt=\"Open In Colab\"/></a>"
      ]
    },
    {
      "cell_type": "code",
      "execution_count": 1,
      "metadata": {
        "id": "fd_eFtgNUFKC"
      },
      "outputs": [],
      "source": [
        "# Creating a program using a for loop to add the sums of all even numbers from 1 to 100"
      ]
    },
    {
      "cell_type": "code",
      "source": [
        "# Initiating with a variable\n",
        "\n",
        "total = 0\n",
        "\n",
        "for number in range(2,101,2):\n",
        "  total += number\n",
        "  \n",
        "\n",
        "print(total)"
      ],
      "metadata": {
        "colab": {
          "base_uri": "https://localhost:8080/"
        },
        "id": "iQ6c1-BBUNkg",
        "outputId": "3622cb5b-e95f-4a36-8a72-1555b0403adb"
      },
      "execution_count": 15,
      "outputs": [
        {
          "output_type": "stream",
          "name": "stdout",
          "text": [
            "2550\n"
          ]
        }
      ]
    }
  ]
}