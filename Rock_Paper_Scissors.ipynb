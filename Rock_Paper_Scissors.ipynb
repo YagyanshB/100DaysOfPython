{
  "nbformat": 4,
  "nbformat_minor": 0,
  "metadata": {
    "colab": {
      "name": "Rock_Paper_Scissors.ipynb",
      "provenance": [],
      "authorship_tag": "ABX9TyNow+PNWzVEGx8ja1fQhIHo",
      "include_colab_link": true
    },
    "kernelspec": {
      "name": "python3",
      "display_name": "Python 3"
    },
    "language_info": {
      "name": "python"
    }
  },
  "cells": [
    {
      "cell_type": "markdown",
      "metadata": {
        "id": "view-in-github",
        "colab_type": "text"
      },
      "source": [
        "<a href=\"https://colab.research.google.com/github/YagyanshB/100DaysOfPython/blob/main/Rock_Paper_Scissors.ipynb\" target=\"_parent\"><img src=\"https://colab.research.google.com/assets/colab-badge.svg\" alt=\"Open In Colab\"/></a>"
      ]
    },
    {
      "cell_type": "code",
      "execution_count": 17,
      "metadata": {
        "id": "W6XPc226yOEf"
      },
      "outputs": [],
      "source": [
        "# Creating a Rock, Paper & Scissors Game\n",
        "\n",
        "\n",
        "rock = '''\n",
        "    _______\n",
        "---'   ____)\n",
        "      (_____)\n",
        "      (_____)\n",
        "      (____)\n",
        "---.__(___)\n",
        "'''\n",
        "\n",
        "paper = '''\n",
        "    _______\n",
        "---'   ____)____\n",
        "          ______)\n",
        "          _______)\n",
        "         _______)\n",
        "---.__________)\n",
        "'''l\n",
        "\n",
        "scissors = '''\n",
        "    _______\n",
        "---'   ____)____\n",
        "          ______)\n",
        "       __________)\n",
        "      (____)\n",
        "---.__(___)\n",
        "'''\n",
        "\n"
      ]
    },
    {
      "cell_type": "code",
      "source": [
        "# Creating a list to hold rock, paper and scissors\n",
        "\n",
        "weapon_of_choice = [rock, paper, scissors]"
      ],
      "metadata": {
        "id": "9fV7eR-TyS7W"
      },
      "execution_count": 18,
      "outputs": []
    },
    {
      "cell_type": "code",
      "source": [
        "# Asking the user for input?\n",
        "\n",
        "user_choice = input(\"What would you like to play with ? Press 0 for rock, 1 for paper and 2 for scissors: \")"
      ],
      "metadata": {
        "colab": {
          "base_uri": "https://localhost:8080/"
        },
        "id": "FP-J1bhYyY4g",
        "outputId": "4768d438-ca97-4872-fad7-6e4a43e4ceab"
      },
      "execution_count": 19,
      "outputs": [
        {
          "name": "stdout",
          "output_type": "stream",
          "text": [
            "What would you like to play with ? Press 0 for rock, 1 for paper and 2 for scissors: 0\n"
          ]
        }
      ]
    },
    {
      "cell_type": "code",
      "source": [
        "# Converting the user choice to an int:\n",
        "\n",
        "user_weapon = int(user_choice)"
      ],
      "metadata": {
        "id": "e3lkCX6oyxoC"
      },
      "execution_count": 20,
      "outputs": []
    },
    {
      "cell_type": "code",
      "source": [
        "# Importing the random module \n",
        "\n",
        "import random\n",
        "\n",
        "computer_choice = random.randint(0,2)"
      ],
      "metadata": {
        "id": "8sk2wb4Gy5uR"
      },
      "execution_count": 21,
      "outputs": []
    },
    {
      "cell_type": "code",
      "source": [
        "# Setting the rules of the game:\n",
        "\n",
        "if user_weapon == 0 and computer_choice == 0:\n",
        "  print(\"This is a Draw\")\n",
        "\n",
        "elif user_weapon == 1 and computer_choice == 1:\n",
        "  print(\"This is a Draw\")\n",
        "\n",
        "elif user_weapon == 2 and computer_choice == 2:\n",
        "  print(\"This is a Draw\")\n",
        "\n",
        "elif user_weapon == 0 and computer_choice == 2:\n",
        "  print(\"You Win!\")\n",
        "\n",
        "elif user_weapon == 1 and computer_choice == 2:\n",
        "  print(\"Computer Wins!\")\n",
        "\n",
        "elif user_weapon == 0 and computer_choice == 1:\n",
        "  print(\"Computer Wins!\")\n",
        "\n",
        "elif user_weapon == 0 and computer_choice == 2:\n",
        "  print(\"You Win!\")\n",
        "\n",
        "elif user_weapon == 1 and computer_choice == 0:\n",
        "  print(\"Computer Wins!\")\n",
        "\n",
        "elif user_weapon == 2 and computer_choice == 1:\n",
        "  print(\"You Win!\")\n",
        "\n"
      ],
      "metadata": {
        "colab": {
          "base_uri": "https://localhost:8080/"
        },
        "id": "ysPT7Tj7zCJ4",
        "outputId": "0fc310cf-c228-4387-df69-cb313d84446a"
      },
      "execution_count": 22,
      "outputs": [
        {
          "output_type": "stream",
          "name": "stdout",
          "text": [
            "Computer Wins!\n"
          ]
        }
      ]
    },
    {
      "cell_type": "code",
      "source": [
        "print(computer_choice)"
      ],
      "metadata": {
        "colab": {
          "base_uri": "https://localhost:8080/"
        },
        "id": "nUxusDV-1CtR",
        "outputId": "cdcc53e9-af4f-47cc-d50f-1b8203b0a447"
      },
      "execution_count": 23,
      "outputs": [
        {
          "output_type": "stream",
          "name": "stdout",
          "text": [
            "1\n"
          ]
        }
      ]
    }
  ]
}