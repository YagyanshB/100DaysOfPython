{
  "nbformat": 4,
  "nbformat_minor": 0,
  "metadata": {
    "colab": {
      "name": "Band_Name_Generator.ipynb",
      "provenance": [],
      "collapsed_sections": []
    },
    "kernelspec": {
      "name": "python3",
      "display_name": "Python 3"
    },
    "language_info": {
      "name": "python"
    }
  },
  "cells": [
    {
      "cell_type": "code",
      "execution_count": 1,
      "metadata": {
        "id": "xJWTvZ1QLQ_l"
      },
      "outputs": [],
      "source": [
        "# Creating a program to help artists have their own unique band names using Python"
      ]
    },
    {
      "cell_type": "code",
      "source": [
        "# Asking for inputs from the artist\n",
        "\n",
        "# We use the input function to ask the user to enter the key piece of data/information\n",
        "\n",
        "# Creating a greeting for the program to make it look friendlier \n",
        "\n",
        "print(\"Welcome to the Band Name Generator\\n\")\n",
        "\n",
        "City = input(\"Which city did you grow up in? \")\n",
        "\n",
        "print(\"\\n\")\n",
        "\n",
        "Pet = input(\"What is/was the name of your pet?\\n\")\n",
        "\n",
        "# Using string concatenation to print the name of both the inputs\n",
        "\n",
        "print(\"\\n\")\n",
        "\n",
        "\n",
        "Band_Name = (City + \" \" +  Pet)\n",
        "\n",
        "print(\"Your band name should be \" + Band_Name)"
      ],
      "metadata": {
        "colab": {
          "base_uri": "https://localhost:8080/"
        },
        "id": "GgaF0NrbLXu-",
        "outputId": "24699a37-3660-44f9-f954-cc2c1c17c652"
      },
      "execution_count": 16,
      "outputs": [
        {
          "output_type": "stream",
          "name": "stdout",
          "text": [
            "Welcome to the Band Name Generator\n",
            "\n",
            "Which city did you grow up in? Arctic\n",
            "\n",
            "\n",
            "What is/was the name of your pet?\n",
            "Monkeys\n",
            "\n",
            "\n",
            "Your band name should be Arctic Monkeys\n"
          ]
        }
      ]
    }
  ]
}