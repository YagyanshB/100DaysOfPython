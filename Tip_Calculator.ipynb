{
  "nbformat": 4,
  "nbformat_minor": 0,
  "metadata": {
    "colab": {
      "name": "Tip_Calculator.ipynb",
      "provenance": [],
      "collapsed_sections": [],
      "authorship_tag": "ABX9TyOQaN5NJwNpvwQ6a4Z5K7CZ",
      "include_colab_link": true
    },
    "kernelspec": {
      "name": "python3",
      "display_name": "Python 3"
    },
    "language_info": {
      "name": "python"
    }
  },
  "cells": [
    {
      "cell_type": "markdown",
      "metadata": {
        "id": "view-in-github",
        "colab_type": "text"
      },
      "source": [
        "<a href=\"https://colab.research.google.com/github/YagyanshB/100DaysOfPython/blob/main/Tip_Calculator.ipynb\" target=\"_parent\"><img src=\"https://colab.research.google.com/assets/colab-badge.svg\" alt=\"Open In Colab\"/></a>"
      ]
    },
    {
      "cell_type": "code",
      "execution_count": 1,
      "metadata": {
        "id": "MhHaEKH6ztsg"
      },
      "outputs": [],
      "source": [
        "# Building a tip calculator for foodies who don't like to calculate when paying the bill"
      ]
    },
    {
      "cell_type": "code",
      "source": [
        "print(\"Welcome to the Tip Calculator Machine\\n\")\n",
        "\n",
        "# Enter the total bill that came\n",
        "\n",
        "total_bill = float(input(\"What was your total bill? £\"))\n",
        "\n",
        "# Enter the tip percentage you would like to give\n",
        "\n",
        "tip_percent = int(input(\"What percentage of tip would you like to give? 10, 12 or 15? \"))\n",
        "\n",
        "# Number of people the Bill would be split between\n",
        "\n",
        "number_of_people = int(input(\"How many people would be splitting the bill? \"))\n",
        "\n",
        "# Calculating the amount everyone should pay will be using f strings\n",
        "\n",
        "new_bill = float(total_bill*(tip_percent/100) + total_bill)\n",
        "\n",
        "individual_bill = float(round(new_bill/number_of_people, 2))\n",
        "\n",
        "print(f\"The amount each individual needs to pay is £{individual_bill}\")"
      ],
      "metadata": {
        "colab": {
          "base_uri": "https://localhost:8080/"
        },
        "id": "uCdlv2Mpz0OY",
        "outputId": "95a5343d-aa49-421b-85ba-7da002d3827a"
      },
      "execution_count": 21,
      "outputs": [
        {
          "output_type": "stream",
          "name": "stdout",
          "text": [
            "Welcome to the Tip Calculator Machine\n",
            "\n",
            "What was your total bill? £100\n",
            "What percentage of tip would you like to give? 10, 12 or 15? 12\n",
            "How many people would be splitting the bill? 5\n",
            "The amount each individual needs to pay is £22.4\n"
          ]
        }
      ]
    }
  ]
}